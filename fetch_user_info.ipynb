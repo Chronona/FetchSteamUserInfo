{
 "cells": [
  {
   "cell_type": "code",
   "execution_count": 1,
   "metadata": {},
   "outputs": [],
   "source": [
    "import json\n",
    "import time\n",
    "import requests\n",
    "import random\n",
    "\n",
    "import numpy as np\n",
    "import pandas as pd\n",
    "import seaborn as sns\n",
    "from tqdm import tqdm\n"
   ]
  },
  {
   "cell_type": "code",
   "execution_count": 2,
   "metadata": {},
   "outputs": [],
   "source": [
    "# 自分用\n",
    "with open(\".ignore/mydata/steam_api.txt\", \"r\") as f:\n",
    "    api_key = f.read()\n",
    "\n",
    "with open(\".ignore/mydata/account.txt\", \"r\") as f2:\n",
    "    uid = f2.read()\n"
   ]
  },
  {
   "cell_type": "code",
   "execution_count": 5,
   "metadata": {},
   "outputs": [],
   "source": [
    "############################################################\n",
    "# ISteamUser Interface（一部）\n",
    "# https://partner.steamgames.com/doc/webapi/ISteamUser\n",
    "############################################################\n",
    "\n",
    "# アカウント情報取得（１アカウントだけ。存在しないidを入力してもOK）\n",
    "def GetPlayerSummary(api_key, uid):\n",
    "    url = \"https://api.steampowered.com/ISteamUser/GetPlayerSummaries/v2/?key={}&steamids={}&format=json\".format(\n",
    "        api_key, uid\n",
    "    )\n",
    "    r = requests.get(url)\n",
    "    # 結果はJSON形式なのでデコード\n",
    "    data = json.loads(r.text)\n",
    "    # ユーザー情報が帰って来たかでIDの使用/未使用をチェック\n",
    "    if data[\"response\"][\"players\"] == []:\n",
    "        return \"Unused ID\"\n",
    "    else:\n",
    "        return data[\"response\"][\"players\"][0]\n",
    "\n",
    "\n",
    "# アカウント情報取得（複数アカウント。存在が確認されているアカウントのみ）\n",
    "def GetPlayerSummaries(api_key, uids):  # steamidは100アカウントまで一気に検索可能（コンマ区切りで並べる）\n",
    "    url = \"https://api.steampowered.com/ISteamUser/GetPlayerSummaries/v2/?key={}&steamids={}&format=json\".format(\n",
    "        api_key, uids\n",
    "    )\n",
    "    r = requests.get(url)\n",
    "    data = json.loads(r.text)\n",
    "    return data[\"response\"][\"players\"]\n",
    "\n"
   ]
  },
  {
   "cell_type": "code",
   "execution_count": 6,
   "metadata": {},
   "outputs": [],
   "source": [
    "############################################################\n",
    "# IPlayerService Interface\n",
    "# https://partner.steamgames.com/doc/webapi/IPlayerService\n",
    "############################################################\n",
    "\n",
    "# UIDを使って所持ゲーム情報を取得\n",
    "def GetOwnedGames(api_key, uid):\n",
    "    url = \"http://api.steampowered.com/IPlayerService/GetOwnedGames/v1/?key={}&steamid={}&format=json\".format(\n",
    "        api_key, uid\n",
    "    )\n",
    "    r = requests.get(url)\n",
    "    # 結果はJSON形式なのでデコード\n",
    "    data = json.loads(r.text)\n",
    "    return data[\"response\"]\n",
    "\n",
    "\n",
    "# 最近遊んだゲームを表示\n",
    "def GetRecentlyPlayedGames(api_key, uid, count):\n",
    "    # 最近遊んだゲームをすべて表示したい場合はcount=0\n",
    "    url = \"https://api.steampowered.com/IPlayerService/GetRecentlyPlayedGames/v1/?key={}&steamid={}&count={}&format=json\".format(\n",
    "        api_key, uid, count\n",
    "    )\n",
    "    r = requests.get(url)\n",
    "    data = json.loads(r.text)\n",
    "    return data[\"response\"]\n",
    "\n",
    "\n",
    "# レベルの表示\n",
    "def GetSteamLevel(api_key, uid):\n",
    "    url = \"https://api.steampowered.com/IPlayerService/GetSteamLevel/v1/?key={}&steamid={}&format=json\".format(\n",
    "        api_key, uid\n",
    "    )\n",
    "    r = requests.get(url)\n",
    "    data = json.loads(r.text)\n",
    "    return data[\"response\"][\"player_level\"]\n",
    "\n",
    "\n",
    "# 所持バッジ\n",
    "def GetBadges(api_key, uid):\n",
    "    url = \"https://api.steampowered.com/IPlayerService/GetBadges/v1/?key={}&steamid={}&format=json\".format(\n",
    "        api_key, uid\n",
    "    )\n",
    "    r = requests.get(url)\n",
    "    data = json.loads(r.text)\n",
    "    return data[\"response\"]\n",
    "\n",
    "\n",
    "# コミュニティバッジ進捗\n",
    "def GetCommunityBadgeProgress(api_key, uid, bid):\n",
    "    url = \"https://api.steampowered.com/IPlayerService/GetCommunityBadgeProgress/v1/?key={}&steamid={}&badgeid={}&format=json\".format(\n",
    "        api_key, uid, bid\n",
    "    )\n",
    "    r = requests.get(url)\n",
    "    data = json.loads(r.text)\n",
    "    return data[\"response\"][\"quests\"]\n",
    "\n",
    "\n",
    "# ゲームを貸し出している場合に割り振られるSteamIDを表示\n",
    "def IsPlayingSharedGame(api_key, uid, appid_playing):\n",
    "    url = \"https://api.steampowered.com/IPlayerService/IsPlayingSharedGame/v1/?key={}&steamid={}&appid_playing={}&format=json\".format(\n",
    "        api_key, uid, appid_playing\n",
    "    )\n",
    "    r = requests.get(url)\n",
    "    data = json.loads(r.text)\n",
    "    return data[\"response\"]\n",
    "\n"
   ]
  },
  {
   "cell_type": "code",
   "execution_count": 7,
   "metadata": {},
   "outputs": [],
   "source": [
    "############################################################\n",
    "\n",
    "# UIDを使って所持ゲーム情報を取得\n",
    "ownd_games = GetOwnedGames(api_key, uid)"
   ]
  },
  {
   "cell_type": "code",
   "execution_count": null,
   "metadata": {},
   "outputs": [],
   "source": [
    "# St4ck氏のアカウント情報を取得する(2021/03/21)\n",
    "uid = 76561198023414915"
   ]
  },
  {
   "cell_type": "code",
   "execution_count": 8,
   "metadata": {},
   "outputs": [
    {
     "data": {
      "text/plain": [
       "4728"
      ]
     },
     "execution_count": 8,
     "metadata": {},
     "output_type": "execute_result"
    }
   ],
   "source": [
    "ownd_games[\"game_count\"]"
   ]
  },
  {
   "cell_type": "code",
   "execution_count": 9,
   "metadata": {},
   "outputs": [
    {
     "data": {
      "text/plain": [
       "[{'appid': 10,\n",
       "  'playtime_forever': 0,\n",
       "  'playtime_windows_forever': 0,\n",
       "  'playtime_mac_forever': 0,\n",
       "  'playtime_linux_forever': 0},\n",
       " {'appid': 80,\n",
       "  'playtime_forever': 0,\n",
       "  'playtime_windows_forever': 0,\n",
       "  'playtime_mac_forever': 0,\n",
       "  'playtime_linux_forever': 0},\n",
       " {'appid': 100,\n",
       "  'playtime_forever': 0,\n",
       "  'playtime_windows_forever': 0,\n",
       "  'playtime_mac_forever': 0,\n",
       "  'playtime_linux_forever': 0},\n",
       " {'appid': 300,\n",
       "  'playtime_forever': 0,\n",
       "  'playtime_windows_forever': 0,\n",
       "  'playtime_mac_forever': 0,\n",
       "  'playtime_linux_forever': 0},\n",
       " {'appid': 20,\n",
       "  'playtime_forever': 0,\n",
       "  'playtime_windows_forever': 0,\n",
       "  'playtime_mac_forever': 0,\n",
       "  'playtime_linux_forever': 0}]"
      ]
     },
     "execution_count": 9,
     "metadata": {},
     "output_type": "execute_result"
    }
   ],
   "source": [
    "ownd_games[\"games\"][:5]\n"
   ]
  },
  {
   "cell_type": "code",
   "execution_count": 10,
   "metadata": {},
   "outputs": [],
   "source": [
    "# 最近遊んだゲームを表示\n",
    "recently_played_games = GetRecentlyPlayedGames(api_key, uid, 0)"
   ]
  },
  {
   "cell_type": "code",
   "execution_count": 11,
   "metadata": {},
   "outputs": [
    {
     "data": {
      "text/plain": [
       "3"
      ]
     },
     "execution_count": 11,
     "metadata": {},
     "output_type": "execute_result"
    }
   ],
   "source": [
    "recently_played_games[\"total_count\"]"
   ]
  },
  {
   "cell_type": "code",
   "execution_count": 12,
   "metadata": {},
   "outputs": [
    {
     "data": {
      "text/plain": [
       "[{'appid': 433850,\n",
       "  'name': 'Z1 Battle Royale',\n",
       "  'playtime_2weeks': 4871,\n",
       "  'playtime_forever': 131291,\n",
       "  'img_icon_url': 'aee7491abfd812e2fbb4ec3326ad5f4b85c8137a',\n",
       "  'img_logo_url': 'b83cffe1839f3ecaec18754844b21bda9b397659',\n",
       "  'playtime_windows_forever': 4965,\n",
       "  'playtime_mac_forever': 0,\n",
       "  'playtime_linux_forever': 0},\n",
       " {'appid': 730,\n",
       "  'name': 'Counter-Strike: Global Offensive',\n",
       "  'playtime_2weeks': 49,\n",
       "  'playtime_forever': 414870,\n",
       "  'img_icon_url': '69f7ebe2735c366c65c0b33dae00e12dc40edbe4',\n",
       "  'img_logo_url': 'd0595ff02f5c79fd19b06f4d6165c3fda2372820',\n",
       "  'playtime_windows_forever': 1200,\n",
       "  'playtime_mac_forever': 0,\n",
       "  'playtime_linux_forever': 0},\n",
       " {'appid': 1238860,\n",
       "  'name': 'Battlefield 4™ ',\n",
       "  'playtime_2weeks': 31,\n",
       "  'playtime_forever': 13969,\n",
       "  'img_icon_url': 'fe0bd4bd2adde978ca411a4b2725c1b6d72717ef',\n",
       "  'img_logo_url': '6f4f3bf49342fcf38f9e7c63b9d9148b42c53b0b',\n",
       "  'playtime_windows_forever': 13969,\n",
       "  'playtime_mac_forever': 0,\n",
       "  'playtime_linux_forever': 0}]"
      ]
     },
     "execution_count": 12,
     "metadata": {},
     "output_type": "execute_result"
    }
   ],
   "source": [
    "recently_played_games[\"games\"][:3]"
   ]
  },
  {
   "cell_type": "code",
   "execution_count": 13,
   "metadata": {},
   "outputs": [
    {
     "data": {
      "text/plain": [
       "5000"
      ]
     },
     "execution_count": 13,
     "metadata": {},
     "output_type": "execute_result"
    }
   ],
   "source": [
    "# レベルの表示\n",
    "steam_level = GetSteamLevel(api_key, uid)\n",
    "steam_level"
   ]
  },
  {
   "cell_type": "code",
   "execution_count": 14,
   "metadata": {},
   "outputs": [],
   "source": [
    "# 所持バッジ\n",
    "badges = GetBadges(api_key, uid)"
   ]
  },
  {
   "cell_type": "code",
   "execution_count": 15,
   "metadata": {},
   "outputs": [
    {
     "data": {
      "text/plain": [
       "[{'badgeid': 48,\n",
       "  'level': 1070,\n",
       "  'completion_time': 1607333397,\n",
       "  'xp': 2070,\n",
       "  'scarcity': 4795},\n",
       " {'badgeid': 49,\n",
       "  'level': 1,\n",
       "  'completion_time': 1616276919,\n",
       "  'xp': 10,\n",
       "  'scarcity': 3201589},\n",
       " {'badgeid': 13,\n",
       "  'level': 4608,\n",
       "  'completion_time': 1615953180,\n",
       "  'xp': 4858,\n",
       "  'scarcity': 17877}]"
      ]
     },
     "execution_count": 15,
     "metadata": {},
     "output_type": "execute_result"
    }
   ],
   "source": [
    "badges[\"badges\"][:3]"
   ]
  },
  {
   "cell_type": "code",
   "execution_count": 16,
   "metadata": {},
   "outputs": [
    {
     "data": {
      "text/plain": [
       "125265813"
      ]
     },
     "execution_count": 16,
     "metadata": {},
     "output_type": "execute_result"
    }
   ],
   "source": [
    "badges[\"player_xp\"]"
   ]
  },
  {
   "cell_type": "code",
   "execution_count": 17,
   "metadata": {},
   "outputs": [
    {
     "data": {
      "text/plain": [
       "5000"
      ]
     },
     "execution_count": 17,
     "metadata": {},
     "output_type": "execute_result"
    }
   ],
   "source": [
    "badges[\"player_level\"]"
   ]
  },
  {
   "cell_type": "code",
   "execution_count": 18,
   "metadata": {},
   "outputs": [
    {
     "data": {
      "text/plain": [
       "34287"
      ]
     },
     "execution_count": 18,
     "metadata": {},
     "output_type": "execute_result"
    }
   ],
   "source": [
    "badges[\"player_xp_needed_to_level_up\"]"
   ]
  },
  {
   "cell_type": "code",
   "execution_count": 19,
   "metadata": {},
   "outputs": [
    {
     "data": {
      "text/plain": [
       "125250000"
      ]
     },
     "execution_count": 19,
     "metadata": {},
     "output_type": "execute_result"
    }
   ],
   "source": [
    "badges[\"player_xp_needed_current_level\"]"
   ]
  },
  {
   "cell_type": "code",
   "execution_count": 20,
   "metadata": {},
   "outputs": [
    {
     "data": {
      "text/plain": [
       "[{'questid': 115, 'completed': True},\n",
       " {'questid': 128, 'completed': True},\n",
       " {'questid': 134, 'completed': True},\n",
       " {'questid': 133, 'completed': True},\n",
       " {'questid': 132, 'completed': True},\n",
       " {'questid': 108, 'completed': True},\n",
       " {'questid': 113, 'completed': True},\n",
       " {'questid': 112, 'completed': True},\n",
       " {'questid': 104, 'completed': True},\n",
       " {'questid': 105, 'completed': True},\n",
       " {'questid': 106, 'completed': False},\n",
       " {'questid': 114, 'completed': True},\n",
       " {'questid': 119, 'completed': True},\n",
       " {'questid': 121, 'completed': True},\n",
       " {'questid': 110, 'completed': True},\n",
       " {'questid': 111, 'completed': True},\n",
       " {'questid': 126, 'completed': True},\n",
       " {'questid': 101, 'completed': True},\n",
       " {'questid': 103, 'completed': True},\n",
       " {'questid': 118, 'completed': True},\n",
       " {'questid': 117, 'completed': True},\n",
       " {'questid': 109, 'completed': True},\n",
       " {'questid': 124, 'completed': True},\n",
       " {'questid': 127, 'completed': True},\n",
       " {'questid': 125, 'completed': True},\n",
       " {'questid': 123, 'completed': True},\n",
       " {'questid': 120, 'completed': True},\n",
       " {'questid': 122, 'completed': True}]"
      ]
     },
     "execution_count": 20,
     "metadata": {},
     "output_type": "execute_result"
    }
   ],
   "source": [
    "# コミュニティバッジ進捗（badge_id =2）\n",
    "community_Badge_Progress = GetCommunityBadgeProgress(api_key, uid, 2)\n",
    "community_Badge_Progress"
   ]
  },
  {
   "cell_type": "code",
   "execution_count": 21,
   "metadata": {},
   "outputs": [
    {
     "data": {
      "text/plain": [
       "{'lender_steamid': '0'}"
      ]
     },
     "execution_count": 21,
     "metadata": {},
     "output_type": "execute_result"
    }
   ],
   "source": [
    "# ゲームを貸し出している場合に割り振られるSteamIDを表示\n",
    "# 例としてTeardownのappidを使用\n",
    "IsPlayingSharedGame(api_key, uid, 1167630)\n"
   ]
  },
  {
   "cell_type": "markdown",
   "metadata": {},
   "source": [
    "steamidは17桁。いくつかのsteamアカウントをhttps://steamidfinder.com/ で適当にしらべると、  \n",
    "初めの\"76561198\"は全員同じだった。"
   ]
  },
  {
   "cell_type": "code",
   "execution_count": null,
   "metadata": {},
   "outputs": [],
   "source": [
    "for i in tqdm(range(5)):\n",
    "    # 76561198000000000 ~ 76561198999999999が格納されたジェネレータから候補ID抽出\n",
    "    random_numbers = (i for i in range(76561198000000000, 76561199000000000))\n",
    "    ids = random.sample(list(random_numbers), 100)\n",
    "    result = GetPlayerSummaries(api_key, ids)\n",
    "    print(len(result))\n",
    "# 54, 65, 62, 71, 59。期待値62.2"
   ]
  },
  {
   "cell_type": "code",
   "execution_count": null,
   "metadata": {},
   "outputs": [],
   "source": [
    "#\n",
    "for i in tqdm(range(5)):\n",
    "    # 76561197000000000 ~ 76561197999999999が格納されたジェネレータから候補ID抽出\n",
    "    random_numbers = (i for i in range(76561197000000000, 76561198000000000))\n",
    "    ids = random.sample(list(random_numbers), 100)\n",
    "    result = GetPlayerSummaries(api_key, ids)\n",
    "    print(len(result))\n",
    "# 3,2,1,2,2 ほとんどヒットしない"
   ]
  },
  {
   "cell_type": "code",
   "execution_count": null,
   "metadata": {},
   "outputs": [],
   "source": [
    "for i in tqdm(range(5)):\n",
    "    # 76561199000000000 ~ 76561199999999999が格納されたジェネレータから候補ID抽出\n",
    "    random_numbers = (i for i in range(76561199000000000, 76561200000000000))\n",
    "    ids = random.sample(list(random_numbers), 100)\n",
    "    result = GetPlayerSummaries(api_key, ids)\n",
    "    print(len(result))\n",
    "# 19, 14, 12, 18, 28。微妙\n"
   ]
  },
  {
   "cell_type": "markdown",
   "metadata": {},
   "source": [
    "この部分をsteamidを識別子として利用していると仮定して、  \n",
    "残り9桁を乱数で生成。  \n",
    "出鱈目なidから実在するアカウントを1万件探して情報を取得。"
   ]
  },
  {
   "cell_type": "markdown",
   "metadata": {},
   "source": [
    "標本は10000件程度欲しいので、多めに見積もって20000個乱数を生成する。想定通りなら12000件ぐらい取れるはず。"
   ]
  },
  {
   "cell_type": "code",
   "execution_count": null,
   "metadata": {},
   "outputs": [],
   "source": [
    "# ID候補が入ったジェネレータ作成\n",
    "random_numbers = (i for i in range(76561198000000000, 76561199000000000))\n",
    "# 2万件抽出\n",
    "ids = random.sample(list(random_numbers), 20000)\n",
    "# 100件ずつしかリクエストできないので分割\n",
    "ids_list = list(np.array_split(ids, 200))"
   ]
  },
  {
   "cell_type": "code",
   "execution_count": null,
   "metadata": {},
   "outputs": [],
   "source": [
    "# 出力ファイル初期化\n",
    "pd.DataFrame(\n",
    "    {\n",
    "        \"steamid\": [],\n",
    "        \"personaname\": [],\n",
    "        \"timecreated\": [],\n",
    "    }\n",
    ").to_csv(\"user_info.csv\")\n",
    "\n",
    "for i in tqdm(ids_list):\n",
    "    # リクエスト用のID文字列作成\n",
    "    ids_str = \",\".join([str(j) for j in i])\n",
    "    # ユーザー情報取得\n",
    "    result = GetPlayerSummaries(api_key, ids_str)\n",
    "    # ID, name, createtimeを取得して辞書化しリストに格納\n",
    "    user_info_list = []\n",
    "    for i in result:\n",
    "        user_info = {}\n",
    "        user_info[\"steamid\"] = i[\"steamid\"]\n",
    "        user_info[\"personaname\"] = i[\"personaname\"]\n",
    "        # 作成日がないユーザーに対しては例外処理\n",
    "        try:\n",
    "            user_info[\"timecreated\"] = i[\"timecreated\"]\n",
    "        except KeyError:\n",
    "            user_info[\"timecreated\"] = \"\"\n",
    "        user_info_list.append(user_info)\n",
    "\n",
    "    # 出力\n",
    "    # 大体60件ずつ追加されていることを確認したいのでindexは残す\n",
    "    pd.DataFrame(user_info_list).to_csv(\"user_id.csv\", mode=\"a\", header=False)"
   ]
  },
  {
   "cell_type": "markdown",
   "metadata": {},
   "source": [
    "11508件入手できた。概ね予想通り"
   ]
  },
  {
   "cell_type": "markdown",
   "metadata": {},
   "source": [
    "入手したIDを使ってユーザー情報を取得"
   ]
  },
  {
   "cell_type": "code",
   "execution_count": null,
   "metadata": {},
   "outputs": [],
   "source": [
    "# ユーザー情報を取得\n",
    "user_info_list = []\n",
    "steam_ids = df[\"steamid\"]\n",
    "for id in tqdm(steam_ids):\n",
    "    user_info = {}\n",
    "    user_info[\"steamid\"] = id\n",
    "\n",
    "    # 情報が取得できないユーザーがいたので例外処理\n",
    "    # プロフィールを非表示設定にしている場合は取得できない？\n",
    "\n",
    "    # 所持ゲーム\n",
    "    ownd_games = GetOwnedGames(api_key, id)\n",
    "    try:\n",
    "        user_info[\"game_count\"] = ownd_games[\"game_count\"]\n",
    "        user_info[\"games\"] = ownd_games[\"games\"]\n",
    "    except KeyError:\n",
    "        user_info[\"game_count\"] = None\n",
    "        user_info[\"games\"] = None\n",
    "\n",
    "    # バッジ情報\n",
    "    badges = GetBadges(api_key, id)\n",
    "    try:\n",
    "        user_info[\"badges\"] = badges[\"badges\"]\n",
    "        user_info[\"player_xp\"] = badges[\"player_xp\"]\n",
    "        user_info[\"player_level\"] = badges[\"player_level\"]\n",
    "        # コミュニティバッジ進捗\n",
    "        community_Badge_Progress = GetCommunityBadgeProgress(api_key, id, 2)\n",
    "        user_info[\"cleard_quests\"] = len(\n",
    "            [i for i in community_Badge_Progress if i[\"completed\"] == True]\n",
    "        )\n",
    "        user_info[\"quests\"] = community_Badge_Progress\n",
    "    except KeyError:\n",
    "        user_info[\"badges\"] = None\n",
    "        user_info[\"player_xp\"] = None\n",
    "        user_info[\"player_level\"] = None\n",
    "        user_info[\"cleard_quests\"] = None\n",
    "        user_info[\"quests\"] = None\n",
    "\n",
    "    user_info_list.append(user_info)\n",
    "    # ウェイト時間を設けておく\n",
    "    time.sleep(0.5)\n",
    "\n",
    "# DF化→jsonで出力\n",
    "badge_df = pd.DataFrame(user_info_list)\n",
    "badge_df.to_json(\"user_info.json\")"
   ]
  }
 ],
 "metadata": {
  "kernelspec": {
   "display_name": "'Python Interactive'",
   "language": "python",
   "name": "b38d31d6-19aa-445c-9f3a-3cddca27f489"
  },
  "language_info": {
   "codemirror_mode": {
    "name": "ipython",
    "version": 3
   },
   "file_extension": ".py",
   "mimetype": "text/x-python",
   "name": "python",
   "nbconvert_exporter": "python",
   "pygments_lexer": "ipython3",
   "version": "3.6.8"
  }
 },
 "nbformat": 4,
 "nbformat_minor": 4
}
